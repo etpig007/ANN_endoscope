{
 "cells": [
  {
   "cell_type": "code",
   "execution_count": 2,
   "metadata": {},
   "outputs": [
    {
     "name": "stdout",
     "output_type": "stream",
     "text": [
      "[[0.9194]]\n",
      "1.0 1.0 1.0 1.0 4.0 2.0 2.0 1.0 0.0 3.0 5.0 2.0 1.0 0.0\n",
      "[[0.9194]]\n",
      "1.0 1.0 1.0 1.0 4.0 2.0 2.0 1.0 0.0 3.0 5.0 2.0 1.0 0.0\n",
      "[[0.00709]]\n",
      "1.0 1.0 2.0 1.0 1.0 2.0 2.0 1.0 1.0 3.0 2.0 2.0 4.0 0.0\n",
      "[[0.4392]]\n",
      "1.0 2.0 1.0 1.0 4.0 2.0 1.0 1.0 1.0 3.0 2.0 2.0 4.0 0.0\n",
      "[[0.537]]\n",
      "1.0 1.0 1.0 1.0 4.0 2.0 1.0 1.0 1.0 3.0 2.0 2.0 4.0 0.0\n"
     ]
    }
   ],
   "source": [
    "from tkinter import Tk, Label, Entry,DoubleVar, Button, messagebox, LabelFrame, Radiobutton\n",
    "from keras.models import load_model\n",
    "from sklearn.preprocessing import OneHotEncoder, LabelEncoder, binarize\n",
    "import numpy as np\n",
    "from pickle import load\n",
    "model = load_model('endoscope.model')\n",
    "main = Tk()\n",
    "main.title('Spinal endoscopic route suggestion')\n",
    "main.geometry('800x600')\n",
    "sex = DoubleVar()\n",
    "age = DoubleVar()\n",
    "BMI = DoubleVar()\n",
    "duration = DoubleVar()\n",
    "OPsite = DoubleVar()\n",
    "ODI = DoubleVar()\n",
    "VAS = DoubleVar()\n",
    "dsclass = DoubleVar()\n",
    "preop = DoubleVar()\n",
    "herniation_type = DoubleVar()\n",
    "zone = DoubleVar()\n",
    "Pfrirr = DoubleVar()\n",
    "MRI_type = DoubleVar()\n",
    "canalstenosis = DoubleVar()\n",
    "\n",
    "def predict_op():\n",
    "    X = np.array([sex.get(),age.get(),BMI.get(),duration.get(),ODI.get(),VAS.get(),\n",
    "                  OPsite.get(),dsclass.get(),preop.get(),herniation_type.get(),zone.get(),\n",
    "                  Pfrirr.get(),MRI_type.get(),canalstenosis.get()])\n",
    "    X = X.reshape(1,-1).astype(str)\n",
    "    oe = load(open('oe.pkl','rb'))\n",
    "    test_x_enc = oe.transform(X)\n",
    "    predict_y_enc = model.predict(test_x_enc)\n",
    "    y_hat = binarize(predict_y_enc,threshold=0.5).astype(int)\n",
    "    le = load(open('le.pkl','rb'))\n",
    "    predictions = le.inverse_transform(np.ravel(y_hat))\n",
    "    if predictions == '1.0':\n",
    "        OPmethod = 'Transforaminal'\n",
    "    else:\n",
    "        OPmethod = 'Interlaminar'\n",
    "    return OPmethod , predict_y_enc\n",
    "def showMsg():\n",
    "    OPmethod,y_hat= predict_op()\n",
    "    print(y_hat)\n",
    "    print(sex.get(),age.get(),BMI.get(),duration.get(),OPsite.get(),ODI.get(),VAS.get(),dsclass.get(),preop.get(),herniation_type.get(),zone.get(),Pfrirr.get(),\n",
    "                MRI_type.get(),canalstenosis.get())\n",
    "    messagebox.showinfo('Result: ',f'Recommend choice: {OPmethod}')\n",
    "\n",
    "def radioBut(master,variables,*val):\n",
    "    for keys,items in enumerate(val):\n",
    "        Radiobutton(master,text=items,variable=variables,value=keys+1).grid(row=0,column=keys,padx=5,pady=5)\n",
    "    \n",
    "    \n",
    "#==sex==\n",
    "SEX = LabelFrame(main, text='Sex',labelanchor='n')\n",
    "SEX.grid(row=0,column=0,padx=5,pady=5,sticky='nesw')\n",
    "Radiobutton(SEX,text='male',variable=sex,value=1).grid(row=0,column=0,padx=5,pady=5)\n",
    "Radiobutton(SEX,text='female',variable=sex,value=2).grid(row=1,column=0,padx=5,pady=5)\n",
    "\n",
    "#==age==\n",
    "AGE = LabelFrame(main, text='Age',labelanchor='n')\n",
    "AGE.grid(row=0,column=1,padx=5,pady=5,sticky='nesw')\n",
    "Radiobutton(AGE,text='<=65',variable=age,value=1).grid(row=0,column=0,padx=5,pady=5)\n",
    "Radiobutton(AGE,text='>65',variable=age,value=2).grid(row=1,column=0,padx=5,pady=5)\n",
    "#==BMI==\n",
    "BM = LabelFrame(main, text='BMI',labelanchor='n')\n",
    "BM.grid(row=0,column=2,padx=5,pady=5,sticky='nesw')\n",
    "Radiobutton(BM,text='<=30',variable=BMI,value=1).grid(row=0,column=0,padx=5,pady=5)\n",
    "Radiobutton(BM,text='>30',variable=BMI,value=2).grid(row=1,column=0,padx=5,pady=5)\n",
    "\n",
    "#==symptoms duration==\n",
    "SD = LabelFrame(main, text='Symptom duration',labelanchor='n')\n",
    "SD.grid(row=0,column=3,padx=5,pady=5,sticky='nesw')\n",
    "Radiobutton(SD,text='<=3 months',variable=duration,value=1).grid(row=0,column=0,padx=5,pady=5)\n",
    "Radiobutton(SD,text='>3 months',variable=duration,value=2).grid(row=1,column=0,padx=5,pady=5)\n",
    "\n",
    "#==lumbar leve==\n",
    "LV = LabelFrame(main, text='Lumbar level',labelanchor='n')\n",
    "LV.grid(row=1,column=0,padx=5,pady=5,sticky='nesw',columnspan=4)\n",
    "LumbarLevels = {0:'L2/L3',1:'L3/L4',2:'L4/L5',3:'L5/S1',4:'other 2 levles',\n",
    "                5:'L4/L5+L5/S1',6:'L1/L2',7:'T12/L1'}\n",
    "for val, lv in LumbarLevels.items():\n",
    "    Radiobutton(LV,text=lv,variable=OPsite,value=val+1).grid(row=0,column=val,padx=5,pady=5)\n",
    "#==ODI==\n",
    "OD = LabelFrame(main, text='ODI',labelanchor='n')\n",
    "OD.grid(row=2,column=0,padx=5,pady=5,sticky='nesw',columnspan=2)\n",
    "radioBut(OD,ODI,'<=20','20-40','40-60','60-80','>80')\n",
    "\n",
    "#==VAS==\n",
    "VASFrame = LabelFrame(main, text='VAS',labelanchor='n')\n",
    "VASFrame.grid(row=2,column=2,padx=5,pady=5,sticky='nesw')\n",
    "Radiobutton(VASFrame,text='<=4',variable=VAS,value=1).grid(row=0,column=0,padx=5,pady=5)\n",
    "Radiobutton(VASFrame,text='>4',variable=VAS,value=2).grid(row=1,column=0,padx=5,pady=5)\n",
    "\n",
    "#==Previous surgical history==\n",
    "PSH = LabelFrame(main, text='Previous surgery',labelanchor='n')\n",
    "PSH.grid(row=2,column=3,padx=5,pady=5,sticky='nesw')\n",
    "Radiobutton(PSH,text='No',variable=preop,value=0).grid(row=0,column=0,padx=5,pady=5)\n",
    "Radiobutton(PSH,text='Yes',variable=preop,value=1).grid(row=1,column=0,padx=5,pady=5)\n",
    "\n",
    "#==lumbar disease==\n",
    "LDS = LabelFrame(main, text='Lumbar disease',labelanchor='n')\n",
    "LDS.grid(row=3,column=0,padx=5,pady=5,sticky='nesw',columnspan=2)\n",
    "radioBut(LDS,dsclass,'HIVD','Canal stenosis','Foraminal stenosis')\n",
    "\n",
    "#==Herniation type==\n",
    "HT = LabelFrame(main, text='Herniation type',labelanchor='n')\n",
    "HT.grid(row=3,column=2,padx=5,pady=5,sticky='nesw',columnspan=2)\n",
    "radioBut(HT,herniation_type,'Prolapse','Extrusion','Sequestration')\n",
    "\n",
    "#==Migrating level==\n",
    "ML = LabelFrame(main, text='Migrating level',labelanchor='n')\n",
    "ML.grid(row=4,column=0,padx=5,pady=5,sticky='nesw',columnspan=2)\n",
    "radioBut(ML,zone,'Zone I','Zone II','Zone III','Zone IV','None')\n",
    "\n",
    "#==Pfirrmann grade==\n",
    "PFG = LabelFrame(main, text='Pfirrmann grade',labelanchor='n')\n",
    "PFG.grid(row=4,column=2,padx=5,pady=5,sticky='nesw',columnspan=2)\n",
    "radioBut(PFG,Pfrirr,'I','II','III','IV','V')\n",
    "\n",
    "#==axial plane==\n",
    "AXIAL = LabelFrame(main, text='Lesion localization',labelanchor='n')\n",
    "AXIAL.grid(row=5,column=0,padx=5,pady=5,sticky='nesw',columnspan=2)\n",
    "radioBut(AXIAL,MRI_type,'Central','Subarticular','Foraminal','Extraforaminal')\n",
    "\n",
    "#==high canal compromised==\n",
    "HC = LabelFrame(main, text='>50% canal compromised',labelanchor='n')\n",
    "HC.grid(row=5,column=2,padx=5,pady=5,sticky='nesw')\n",
    "Radiobutton(HC,text='No',variable=canalstenosis,value=0).grid(row=0,column=0,padx=5,pady=5)\n",
    "Radiobutton(HC,text='Yes',variable=canalstenosis,value=1).grid(row=1,column=0,padx=5,pady=5)\n",
    "\n",
    "#==check==\n",
    "btn = Button(main,text='Predict',command=showMsg)\n",
    "btn.grid(row=5,column=3)\n",
    "main.mainloop()"
   ]
  },
  {
   "cell_type": "code",
   "execution_count": 30,
   "metadata": {},
   "outputs": [
    {
     "name": "stdout",
     "output_type": "stream",
     "text": [
      "{'foo': 'bar', 'hello': 'world'}\n"
     ]
    }
   ],
   "source": [
    "def print_kwargs(**kwargs):\n",
    "    print(kwargs)\n",
    "print_kwargs(foo='bar', hello='world')\n"
   ]
  },
  {
   "cell_type": "code",
   "execution_count": 17,
   "metadata": {},
   "outputs": [
    {
     "name": "stdout",
     "output_type": "stream",
     "text": [
      "0\n",
      "A\n",
      "1\n",
      "B\n",
      "2\n",
      "C\n"
     ]
    }
   ],
   "source": [
    "C=['A','B','C']\n",
    "D=enumerate(C)\n",
    "for i,j in D:\n",
    "    print(i)\n",
    "    print(j)"
   ]
  },
  {
   "cell_type": "code",
   "execution_count": 71,
   "metadata": {},
   "outputs": [
    {
     "data": {
      "text/plain": [
       "array([[0]])"
      ]
     },
     "execution_count": 71,
     "metadata": {},
     "output_type": "execute_result"
    }
   ],
   "source": [
    "a=np.array([0.1])\n",
    "a=a.reshape(1,-1)\n",
    "y=binarize(a, threshold=0.5).astype(int)\n",
    "y"
   ]
  },
  {
   "cell_type": "code",
   "execution_count": null,
   "metadata": {},
   "outputs": [],
   "source": []
  }
 ],
 "metadata": {
  "kernelspec": {
   "display_name": "Python 3",
   "language": "python",
   "name": "python3"
  },
  "language_info": {
   "codemirror_mode": {
    "name": "ipython",
    "version": 3
   },
   "file_extension": ".py",
   "mimetype": "text/x-python",
   "name": "python",
   "nbconvert_exporter": "python",
   "pygments_lexer": "ipython3",
   "version": "3.8.5"
  }
 },
 "nbformat": 4,
 "nbformat_minor": 4
}
